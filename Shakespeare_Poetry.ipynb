{
  "cells": [
    {
      "cell_type": "markdown",
      "metadata": {
        "id": "bFWbEb6uGbN-"
      },
      "source": [
        "# Shakespeare Poetry Generator (NLP)\n",
        "\n",
        "\n",
        "Goal:\n",
        "\n",
        "Create a model that will predict the next word in a text sequence and train it using a corpus of Shakespeare's sonnets.\n",
        "\n",
        "For this project, I used the [Shakespeare Sonnets Dataset](https://www.opensourceshakespeare.org/views/sonnets/sonnet_view.php?range=viewrange&sonnetrange1=1&sonnetrange2=154), which contains more than 2000 lines of text extracted from Shakespeare's sonnets."
      ]
    },
    {
      "cell_type": "code",
      "execution_count": 1,
      "metadata": {
        "deletable": false,
        "editable": false,
        "id": "BOwsuGQQY9OL",
        "tags": [
          "graded"
        ]
      },
      "outputs": [],
      "source": [
        "import numpy as np\n",
        "import matplotlib.pyplot as plt\n",
        "from tensorflow.keras.models import Sequential\n",
        "from tensorflow.keras.utils import to_categorical\n",
        "from tensorflow.keras.preprocessing.text import Tokenizer\n",
        "from tensorflow.keras.preprocessing.sequence import pad_sequences\n",
        "from tensorflow.keras.layers import Embedding, LSTM, Dense, Bidirectional"
      ]
    },
    {
      "cell_type": "code",
      "execution_count": 2,
      "metadata": {
        "deletable": false,
        "editable": false,
        "id": "WZ4qOUzujMP6",
        "tags": [
          "graded"
        ],
        "colab": {
          "base_uri": "https://localhost:8080/"
        },
        "outputId": "e6846a05-915a-4a8c-954d-8f0324f34960"
      },
      "outputs": [
        {
          "output_type": "stream",
          "name": "stdout",
          "text": [
            "Downloading...\n",
            "From: https://drive.google.com/uc?id=108jAePKK4R3BVYBbYJZ32JWUwxeMg20K\n",
            "To: /content/sonnets.txt\n",
            "\r  0% 0.00/93.6k [00:00<?, ?B/s]\r100% 93.6k/93.6k [00:00<00:00, 7.05MB/s]\n"
          ]
        }
      ],
      "source": [
        "# sonnets.txt\n",
        "!gdown 108jAePKK4R3BVYBbYJZ32JWUwxeMg20K"
      ]
    },
    {
      "cell_type": "code",
      "execution_count": 3,
      "metadata": {
        "deletable": false,
        "editable": false,
        "id": "Pfd-nYKij5yY",
        "tags": [
          "graded"
        ],
        "colab": {
          "base_uri": "https://localhost:8080/"
        },
        "outputId": "2d92710d-e0b9-4381-9834-cf669e73ec99"
      },
      "outputs": [
        {
          "output_type": "stream",
          "name": "stdout",
          "text": [
            "There are 2159 lines of sonnets\n",
            "\n",
            "The first 5 lines:\n",
            "\n",
            "from fairest creatures we desire increase,\n",
            "that thereby beauty's rose might never die,\n",
            "but as the riper should by time decease,\n",
            "his tender heir might bear his memory:\n",
            "but thou, contracted to thine own bright eyes,\n"
          ]
        }
      ],
      "source": [
        "# Define path for file with sonnets\n",
        "SONNETS_FILE = './sonnets.txt'\n",
        "\n",
        "# Read the data\n",
        "with open('./sonnets.txt') as f:\n",
        "    data = f.read()\n",
        "\n",
        "# Convert to lower case and save as a list\n",
        "corpus = data.lower().split(\"\\n\")\n",
        "\n",
        "print(f\"There are {len(corpus)} lines of sonnets\\n\")\n",
        "print(f\"The first 5 lines:\\n\")\n",
        "for i in range(5):\n",
        "  print(corpus[i])"
      ]
    },
    {
      "cell_type": "markdown",
      "metadata": {
        "id": "imB15zrSNhA1"
      },
      "source": [
        "## Tokenizing the text\n"
      ]
    },
    {
      "cell_type": "code",
      "execution_count": 4,
      "metadata": {
        "deletable": false,
        "editable": false,
        "id": "AAhM_qAZk0o5",
        "tags": [
          "graded"
        ]
      },
      "outputs": [],
      "source": [
        "tokenizer = Tokenizer()\n",
        "tokenizer.fit_on_texts(corpus)\n",
        "total_words = len(tokenizer.word_index) + 1"
      ]
    },
    {
      "cell_type": "code",
      "execution_count": 5,
      "metadata": {
        "deletable": false,
        "editable": false,
        "id": "tqhPxdeXlfjh",
        "tags": [
          "graded"
        ],
        "colab": {
          "base_uri": "https://localhost:8080/",
          "height": 35
        },
        "outputId": "08cb43dc-f8b2-4065-9cc6-b29897680ed9"
      },
      "outputs": [
        {
          "output_type": "execute_result",
          "data": {
            "text/plain": [
              "'from fairest creatures we desire increase,'"
            ],
            "application/vnd.google.colaboratory.intrinsic+json": {
              "type": "string"
            }
          },
          "metadata": {},
          "execution_count": 5
        }
      ],
      "source": [
        "corpus[0]"
      ]
    },
    {
      "cell_type": "code",
      "execution_count": 6,
      "metadata": {
        "deletable": false,
        "editable": false,
        "id": "Qmgo-vXhk4nd",
        "tags": [
          "graded"
        ],
        "colab": {
          "base_uri": "https://localhost:8080/"
        },
        "outputId": "8a705428-9f4c-4929-8c62-8c3c51f458f2"
      },
      "outputs": [
        {
          "output_type": "execute_result",
          "data": {
            "text/plain": [
              "[34, 417, 877, 166, 213, 517]"
            ]
          },
          "metadata": {},
          "execution_count": 6
        }
      ],
      "source": [
        "# texts_to_sequences expects a list\n",
        "tokenizer.texts_to_sequences([corpus[0]])[0]"
      ]
    },
    {
      "cell_type": "markdown",
      "metadata": {
        "id": "-oqy9KjXRJ9A"
      },
      "source": [
        "## Generating n_grams\n",
        "\n",
        "This function receives the fitted tokenizer and the corpus (which is a list of strings) and returns a list containing the `n_gram` sequences for each line in the corpus:"
      ]
    },
    {
      "cell_type": "code",
      "execution_count": 7,
      "metadata": {
        "deletable": false,
        "id": "iy4baJMDl6kj",
        "tags": [
          "graded"
        ]
      },
      "outputs": [],
      "source": [
        "# grader-required-cell\n",
        "\n",
        "# GRADED FUNCTION: n_gram_seqs\n",
        "def n_gram_seqs(corpus, tokenizer):\n",
        "    \"\"\"\n",
        "    Generates a list of n-gram sequences\n",
        "\n",
        "    Args:\n",
        "        corpus (list of string): lines of texts to generate n-grams for\n",
        "        tokenizer (object): an instance of the Tokenizer class containing the word-index dictionary\n",
        "\n",
        "    Returns:\n",
        "        input_sequences (list of int): the n-gram sequences for each line in the corpus\n",
        "    \"\"\"\n",
        "    input_sequences = []\n",
        "\n",
        "    # Loop over every line\n",
        "    for line in corpus:\n",
        "\n",
        "      # Tokenize the current line\n",
        "      token_list = tokenizer.texts_to_sequences([line])[0]\n",
        "\n",
        "      # Loop over the line several times to generate the subphrases\n",
        "      for i in range(1, len(token_list)):\n",
        "        # Generate the subphrase\n",
        "        n_gram_sequence = token_list[:i+1]\n",
        "\n",
        "        # Append the subphrase to the sequences list\n",
        "        input_sequences.append(n_gram_sequence)\n",
        "\n",
        "    return input_sequences"
      ]
    },
    {
      "cell_type": "code",
      "execution_count": 8,
      "metadata": {
        "deletable": false,
        "editable": false,
        "id": "DlKqW2pfM7G3",
        "tags": [
          "graded"
        ],
        "colab": {
          "base_uri": "https://localhost:8080/"
        },
        "outputId": "d1e25919-b652-4232-d5f7-cb591a5821e1"
      },
      "outputs": [
        {
          "output_type": "stream",
          "name": "stdout",
          "text": [
            "n_gram sequences for first example look like this:\n",
            "\n"
          ]
        },
        {
          "output_type": "execute_result",
          "data": {
            "text/plain": [
              "[[34, 417],\n",
              " [34, 417, 877],\n",
              " [34, 417, 877, 166],\n",
              " [34, 417, 877, 166, 213],\n",
              " [34, 417, 877, 166, 213, 517]]"
            ]
          },
          "metadata": {},
          "execution_count": 8
        }
      ],
      "source": [
        "# Test 1 for n_gram_seqs function\n",
        "first_example_sequence = n_gram_seqs([corpus[0]], tokenizer)\n",
        "\n",
        "print(\"n_gram sequences for first example look like this:\\n\")\n",
        "first_example_sequence"
      ]
    },
    {
      "cell_type": "code",
      "execution_count": 9,
      "metadata": {
        "deletable": false,
        "editable": false,
        "id": "wtPpCcBjNc4c",
        "tags": [
          "graded"
        ],
        "colab": {
          "base_uri": "https://localhost:8080/"
        },
        "outputId": "90156c38-4dde-4f30-ee67-00165fbfc85d"
      },
      "outputs": [
        {
          "output_type": "stream",
          "name": "stdout",
          "text": [
            "n_gram sequences for next 3 examples look like this:\n",
            "\n"
          ]
        },
        {
          "output_type": "execute_result",
          "data": {
            "text/plain": [
              "[[8, 878],\n",
              " [8, 878, 134],\n",
              " [8, 878, 134, 351],\n",
              " [8, 878, 134, 351, 102],\n",
              " [8, 878, 134, 351, 102, 156],\n",
              " [8, 878, 134, 351, 102, 156, 199],\n",
              " [16, 22],\n",
              " [16, 22, 2],\n",
              " [16, 22, 2, 879],\n",
              " [16, 22, 2, 879, 61],\n",
              " [16, 22, 2, 879, 61, 30],\n",
              " [16, 22, 2, 879, 61, 30, 48],\n",
              " [16, 22, 2, 879, 61, 30, 48, 634],\n",
              " [25, 311],\n",
              " [25, 311, 635],\n",
              " [25, 311, 635, 102],\n",
              " [25, 311, 635, 102, 200],\n",
              " [25, 311, 635, 102, 200, 25],\n",
              " [25, 311, 635, 102, 200, 25, 278]]"
            ]
          },
          "metadata": {},
          "execution_count": 9
        }
      ],
      "source": [
        "# Test 2 for n_gram_seqs function\n",
        "next_3_examples_sequence = n_gram_seqs(corpus[1:4], tokenizer)\n",
        "\n",
        "print(\"n_gram sequences for next 3 examples look like this:\\n\")\n",
        "next_3_examples_sequence"
      ]
    },
    {
      "cell_type": "markdown",
      "metadata": {
        "id": "dx3V_RjFWQSu"
      },
      "source": [
        "Applying the `n_gram_seqs` transformation to the whole corpus and saving the maximum sequence length to use it later:"
      ]
    },
    {
      "cell_type": "code",
      "execution_count": 10,
      "metadata": {
        "deletable": false,
        "editable": false,
        "id": "laMwiRUpmuSd",
        "tags": [
          "graded"
        ],
        "colab": {
          "base_uri": "https://localhost:8080/"
        },
        "outputId": "1dbfcbd9-a3fc-402a-a3c0-0165343919f4"
      },
      "outputs": [
        {
          "output_type": "stream",
          "name": "stdout",
          "text": [
            "n_grams of input_sequences have length: 15462\n",
            "maximum length of sequences is: 11\n"
          ]
        }
      ],
      "source": [
        "# Apply the n_gram_seqs transformation to the whole corpus\n",
        "input_sequences = n_gram_seqs(corpus, tokenizer)\n",
        "\n",
        "# Save max length\n",
        "max_sequence_len = max([len(x) for x in input_sequences])\n",
        "\n",
        "print(f\"n_grams of input_sequences have length: {len(input_sequences)}\")\n",
        "print(f\"maximum length of sequences is: {max_sequence_len}\")"
      ]
    },
    {
      "cell_type": "markdown",
      "metadata": {
        "id": "zHY7HroqWq12"
      },
      "source": [
        "## Add padding to the sequences\n",
        "\n",
        "pad_seqs` function receives a list of sequences and should return a numpy array with the padded sequences:"
      ]
    },
    {
      "cell_type": "code",
      "execution_count": 11,
      "metadata": {
        "cellView": "code",
        "deletable": false,
        "id": "WW1-qAZaWOhC",
        "tags": [
          "graded"
        ]
      },
      "outputs": [],
      "source": [
        "def pad_seqs(input_sequences, maxlen):\n",
        "    \"\"\"\n",
        "    Pads tokenized sequences to the same length\n",
        "\n",
        "    Args:\n",
        "        input_sequences (list of int): tokenized sequences to pad\n",
        "        maxlen (int): maximum length of the token sequences\n",
        "\n",
        "    Returns:\n",
        "        padded_sequences (array of int): tokenized sequences padded to the same length\n",
        "    \"\"\"\n",
        "    padded_sequences = pad_sequences(input_sequences, maxlen=maxlen, padding='pre')\n",
        "\n",
        "    return padded_sequences"
      ]
    },
    {
      "cell_type": "code",
      "execution_count": 12,
      "metadata": {
        "deletable": false,
        "editable": false,
        "id": "IqVQ0pb3YHLr",
        "tags": [
          "graded"
        ],
        "colab": {
          "base_uri": "https://localhost:8080/"
        },
        "outputId": "d44202e0-701e-4cb5-aa9e-d085bb074a7c"
      },
      "outputs": [
        {
          "output_type": "execute_result",
          "data": {
            "text/plain": [
              "array([[  0,   0,   0,   0,  34, 417],\n",
              "       [  0,   0,   0,  34, 417, 877],\n",
              "       [  0,   0,  34, 417, 877, 166],\n",
              "       [  0,  34, 417, 877, 166, 213],\n",
              "       [ 34, 417, 877, 166, 213, 517]], dtype=int32)"
            ]
          },
          "metadata": {},
          "execution_count": 12
        }
      ],
      "source": [
        "# Test 1 for pad_seqs function\n",
        "first_padded_seq = pad_seqs(first_example_sequence, max([len(x) for x in first_example_sequence]))\n",
        "first_padded_seq"
      ]
    },
    {
      "cell_type": "code",
      "execution_count": 13,
      "metadata": {
        "deletable": false,
        "editable": false,
        "id": "j56_UCOBYzZt",
        "tags": [
          "graded"
        ],
        "colab": {
          "base_uri": "https://localhost:8080/"
        },
        "outputId": "5be6dfc7-8254-4180-bf4c-46e7f3ba69a3"
      },
      "outputs": [
        {
          "output_type": "execute_result",
          "data": {
            "text/plain": [
              "array([[  0,   0,   0,   0,   0,   0,   8, 878],\n",
              "       [  0,   0,   0,   0,   0,   8, 878, 134],\n",
              "       [  0,   0,   0,   0,   8, 878, 134, 351],\n",
              "       [  0,   0,   0,   8, 878, 134, 351, 102],\n",
              "       [  0,   0,   8, 878, 134, 351, 102, 156],\n",
              "       [  0,   8, 878, 134, 351, 102, 156, 199],\n",
              "       [  0,   0,   0,   0,   0,   0,  16,  22],\n",
              "       [  0,   0,   0,   0,   0,  16,  22,   2],\n",
              "       [  0,   0,   0,   0,  16,  22,   2, 879],\n",
              "       [  0,   0,   0,  16,  22,   2, 879,  61],\n",
              "       [  0,   0,  16,  22,   2, 879,  61,  30],\n",
              "       [  0,  16,  22,   2, 879,  61,  30,  48],\n",
              "       [ 16,  22,   2, 879,  61,  30,  48, 634],\n",
              "       [  0,   0,   0,   0,   0,   0,  25, 311],\n",
              "       [  0,   0,   0,   0,   0,  25, 311, 635],\n",
              "       [  0,   0,   0,   0,  25, 311, 635, 102],\n",
              "       [  0,   0,   0,  25, 311, 635, 102, 200],\n",
              "       [  0,   0,  25, 311, 635, 102, 200,  25],\n",
              "       [  0,  25, 311, 635, 102, 200,  25, 278]], dtype=int32)"
            ]
          },
          "metadata": {},
          "execution_count": 13
        }
      ],
      "source": [
        "# Test 2 for pad_seqs function\n",
        "next_3_padded_seq = pad_seqs(next_3_examples_sequence, max([len(s) for s in next_3_examples_sequence]))\n",
        "next_3_padded_seq"
      ]
    },
    {
      "cell_type": "code",
      "execution_count": 14,
      "metadata": {
        "deletable": false,
        "editable": false,
        "id": "rgK-Q_micEYA",
        "tags": [
          "graded"
        ],
        "colab": {
          "base_uri": "https://localhost:8080/"
        },
        "outputId": "f06a55fe-70d0-4e86-a40e-d9c5e64aec08"
      },
      "outputs": [
        {
          "output_type": "stream",
          "name": "stdout",
          "text": [
            "padded corpus has shape: (15462, 11)\n"
          ]
        }
      ],
      "source": [
        "# Pad the whole corpus\n",
        "input_sequences = pad_seqs(input_sequences, max_sequence_len)\n",
        "\n",
        "print(f\"padded corpus has shape: {input_sequences.shape}\")"
      ]
    },
    {
      "cell_type": "markdown",
      "metadata": {
        "id": "ZbOidyPrXxf7"
      },
      "source": [
        "## Split the data into features and labels\n",
        "\n",
        "The features will be the padded n_gram sequences with the last word removed from them and the labels will be the removed word.\n",
        "\n",
        "`features_and_labels` expects the padded n_gram sequences as input and should returns a tuple containing the features and the one hot encoded labels.\n"
      ]
    },
    {
      "cell_type": "code",
      "execution_count": 15,
      "metadata": {
        "cellView": "code",
        "deletable": false,
        "id": "9WGGbYdnZdmJ",
        "tags": [
          "graded"
        ]
      },
      "outputs": [],
      "source": [
        "def features_and_labels(input_sequences, total_words):\n",
        "    \"\"\"\n",
        "    Generates features and labels from n-grams\n",
        "\n",
        "    Args:\n",
        "        input_sequences (list of int): sequences to split features and labels from\n",
        "        total_words (int): vocabulary size\n",
        "\n",
        "    Returns:\n",
        "        features, one_hot_labels (array of int, array of int): arrays of features and one-hot encoded labels\n",
        "    \"\"\"\n",
        "    features = input_sequences[:,:-1]\n",
        "    labels = input_sequences[:,-1]\n",
        "    one_hot_labels = to_categorical(labels, num_classes=total_words)\n",
        "\n",
        "    return features, one_hot_labels"
      ]
    },
    {
      "cell_type": "code",
      "execution_count": 16,
      "metadata": {
        "deletable": false,
        "editable": false,
        "id": "23DolaBRaIAZ",
        "tags": [
          "graded"
        ],
        "colab": {
          "base_uri": "https://localhost:8080/"
        },
        "outputId": "88e881ff-0b2c-400a-d32f-4b4af51b6546"
      },
      "outputs": [
        {
          "output_type": "stream",
          "name": "stdout",
          "text": [
            "labels have shape: (5, 3211)\n",
            "\n",
            "features look like this:\n",
            "\n"
          ]
        },
        {
          "output_type": "execute_result",
          "data": {
            "text/plain": [
              "array([[  0,   0,   0,   0,  34],\n",
              "       [  0,   0,   0,  34, 417],\n",
              "       [  0,   0,  34, 417, 877],\n",
              "       [  0,  34, 417, 877, 166],\n",
              "       [ 34, 417, 877, 166, 213]], dtype=int32)"
            ]
          },
          "metadata": {},
          "execution_count": 16
        }
      ],
      "source": [
        "# Test your function with the padded n_grams_seq of the first example\n",
        "first_features, first_labels = features_and_labels(first_padded_seq, total_words)\n",
        "\n",
        "print(f\"labels have shape: {first_labels.shape}\")\n",
        "print(\"\\nfeatures look like this:\\n\")\n",
        "first_features"
      ]
    },
    {
      "cell_type": "code",
      "execution_count": 17,
      "metadata": {
        "deletable": false,
        "editable": false,
        "id": "GRTuLEt3bRKa",
        "tags": [
          "graded"
        ],
        "colab": {
          "base_uri": "https://localhost:8080/"
        },
        "outputId": "552f0f00-4026-4655-a717-ac40caab4676"
      },
      "outputs": [
        {
          "output_type": "stream",
          "name": "stdout",
          "text": [
            "features have shape: (15462, 10)\n",
            "labels have shape: (15462, 3211)\n"
          ]
        }
      ],
      "source": [
        "# Split the whole corpus\n",
        "features, labels = features_and_labels(input_sequences, total_words)\n",
        "\n",
        "print(f\"features have shape: {features.shape}\")\n",
        "print(f\"labels have shape: {labels.shape}\")"
      ]
    },
    {
      "cell_type": "markdown",
      "metadata": {
        "id": "ltxaOCE_aU6J"
      },
      "source": [
        "## Create the model"
      ]
    },
    {
      "cell_type": "code",
      "execution_count": 26,
      "metadata": {
        "cellView": "code",
        "deletable": false,
        "id": "XrE6kpJFfvRY",
        "tags": [
          "graded"
        ]
      },
      "outputs": [],
      "source": [
        "def create_model(total_words, max_sequence_len):\n",
        "    \"\"\"\n",
        "    Creates a text generator model\n",
        "\n",
        "    Args:\n",
        "        total_words (int): size of the vocabulary for the Embedding layer input\n",
        "        max_sequence_len (int): length of the input sequences\n",
        "\n",
        "    Returns:\n",
        "        model (tf.keras Model): the text generator model\n",
        "    \"\"\"\n",
        "    model = Sequential()\n",
        "    model.add(Embedding(total_words, 100, input_length=max_sequence_len - 1))\n",
        "    # model.add(Bidirectional(LSTM(50, return_sequences=True)))\n",
        "    model.add(Bidirectional(LSTM(100)))\n",
        "    model.add(Dense(total_words, activation='softmax'))\n",
        "\n",
        "\n",
        "    # Compile the model\n",
        "    model.compile(loss='categorical_crossentropy',\n",
        "                  optimizer='adam',\n",
        "                  metrics=['accuracy'])\n",
        "\n",
        "\n",
        "    return model"
      ]
    },
    {
      "cell_type": "code",
      "execution_count": 27,
      "metadata": {
        "id": "0IpX_Gu_gISk",
        "tags": [],
        "colab": {
          "base_uri": "https://localhost:8080/"
        },
        "outputId": "d17b4207-04d2-4758-f7a6-45ce1e76fd6c"
      },
      "outputs": [
        {
          "output_type": "stream",
          "name": "stdout",
          "text": [
            "Epoch 1/50\n",
            "484/484 [==============================] - 23s 38ms/step - loss: 6.8905 - accuracy: 0.0219\n",
            "Epoch 2/50\n",
            "484/484 [==============================] - 19s 39ms/step - loss: 6.4506 - accuracy: 0.0307\n",
            "Epoch 3/50\n",
            "484/484 [==============================] - 18s 37ms/step - loss: 6.2416 - accuracy: 0.0384\n",
            "Epoch 4/50\n",
            "484/484 [==============================] - 22s 46ms/step - loss: 6.0037 - accuracy: 0.0486\n",
            "Epoch 5/50\n",
            "484/484 [==============================] - 23s 47ms/step - loss: 5.7418 - accuracy: 0.0578\n",
            "Epoch 6/50\n",
            "484/484 [==============================] - 19s 39ms/step - loss: 5.4682 - accuracy: 0.0671\n",
            "Epoch 7/50\n",
            "484/484 [==============================] - 19s 40ms/step - loss: 5.1795 - accuracy: 0.0803\n",
            "Epoch 8/50\n",
            "484/484 [==============================] - 20s 41ms/step - loss: 4.8840 - accuracy: 0.0990\n",
            "Epoch 9/50\n",
            "484/484 [==============================] - 21s 43ms/step - loss: 4.5917 - accuracy: 0.1184\n",
            "Epoch 10/50\n",
            "484/484 [==============================] - 18s 37ms/step - loss: 4.2975 - accuracy: 0.1478\n",
            "Epoch 11/50\n",
            "484/484 [==============================] - 21s 44ms/step - loss: 4.0157 - accuracy: 0.1873\n",
            "Epoch 12/50\n",
            "484/484 [==============================] - 18s 37ms/step - loss: 3.7409 - accuracy: 0.2341\n",
            "Epoch 13/50\n",
            "484/484 [==============================] - 19s 40ms/step - loss: 3.4795 - accuracy: 0.2835\n",
            "Epoch 14/50\n",
            "484/484 [==============================] - 18s 38ms/step - loss: 3.2334 - accuracy: 0.3313\n",
            "Epoch 15/50\n",
            "484/484 [==============================] - 19s 38ms/step - loss: 3.0062 - accuracy: 0.3732\n",
            "Epoch 16/50\n",
            "484/484 [==============================] - 18s 38ms/step - loss: 2.7976 - accuracy: 0.4158\n",
            "Epoch 17/50\n",
            "484/484 [==============================] - 18s 38ms/step - loss: 2.6035 - accuracy: 0.4545\n",
            "Epoch 18/50\n",
            "484/484 [==============================] - 22s 45ms/step - loss: 2.4258 - accuracy: 0.4882\n",
            "Epoch 19/50\n",
            "484/484 [==============================] - 18s 38ms/step - loss: 2.2613 - accuracy: 0.5250\n",
            "Epoch 20/50\n",
            "484/484 [==============================] - 20s 41ms/step - loss: 2.1074 - accuracy: 0.5573\n",
            "Epoch 21/50\n",
            "484/484 [==============================] - 18s 37ms/step - loss: 1.9607 - accuracy: 0.5911\n",
            "Epoch 22/50\n",
            "484/484 [==============================] - 20s 42ms/step - loss: 1.8341 - accuracy: 0.6186\n",
            "Epoch 23/50\n",
            "484/484 [==============================] - 26s 54ms/step - loss: 1.7211 - accuracy: 0.6431\n",
            "Epoch 24/50\n",
            "484/484 [==============================] - 22s 46ms/step - loss: 1.6158 - accuracy: 0.6645\n",
            "Epoch 25/50\n",
            "484/484 [==============================] - 19s 39ms/step - loss: 1.5112 - accuracy: 0.6878\n",
            "Epoch 26/50\n",
            "484/484 [==============================] - 21s 43ms/step - loss: 1.4224 - accuracy: 0.7078\n",
            "Epoch 27/50\n",
            "484/484 [==============================] - 22s 45ms/step - loss: 1.3303 - accuracy: 0.7278\n",
            "Epoch 28/50\n",
            "484/484 [==============================] - 24s 50ms/step - loss: 1.2534 - accuracy: 0.7449\n",
            "Epoch 29/50\n",
            "484/484 [==============================] - 19s 40ms/step - loss: 1.1817 - accuracy: 0.7570\n",
            "Epoch 30/50\n",
            "484/484 [==============================] - 18s 38ms/step - loss: 1.1195 - accuracy: 0.7711\n",
            "Epoch 31/50\n",
            "484/484 [==============================] - 19s 40ms/step - loss: 1.0637 - accuracy: 0.7831\n",
            "Epoch 32/50\n",
            "484/484 [==============================] - 18s 38ms/step - loss: 1.0095 - accuracy: 0.7914\n",
            "Epoch 33/50\n",
            "484/484 [==============================] - 19s 40ms/step - loss: 0.9648 - accuracy: 0.8007\n",
            "Epoch 34/50\n",
            "484/484 [==============================] - 19s 40ms/step - loss: 0.9200 - accuracy: 0.8094\n",
            "Epoch 35/50\n",
            "484/484 [==============================] - 20s 40ms/step - loss: 0.8802 - accuracy: 0.8133\n",
            "Epoch 36/50\n",
            "484/484 [==============================] - 21s 44ms/step - loss: 0.8452 - accuracy: 0.8191\n",
            "Epoch 37/50\n",
            "484/484 [==============================] - 19s 39ms/step - loss: 0.8147 - accuracy: 0.8232\n",
            "Epoch 38/50\n",
            "484/484 [==============================] - 18s 37ms/step - loss: 0.7897 - accuracy: 0.8251\n",
            "Epoch 39/50\n",
            "484/484 [==============================] - 18s 37ms/step - loss: 0.7645 - accuracy: 0.8306\n",
            "Epoch 40/50\n",
            "484/484 [==============================] - 19s 39ms/step - loss: 0.7381 - accuracy: 0.8342\n",
            "Epoch 41/50\n",
            "484/484 [==============================] - 18s 38ms/step - loss: 0.7147 - accuracy: 0.8371\n",
            "Epoch 42/50\n",
            "484/484 [==============================] - 19s 40ms/step - loss: 0.7009 - accuracy: 0.8382\n",
            "Epoch 43/50\n",
            "484/484 [==============================] - 18s 38ms/step - loss: 0.6882 - accuracy: 0.8404\n",
            "Epoch 44/50\n",
            "484/484 [==============================] - 19s 39ms/step - loss: 0.6719 - accuracy: 0.8435\n",
            "Epoch 45/50\n",
            "484/484 [==============================] - 18s 37ms/step - loss: 0.6597 - accuracy: 0.8444\n",
            "Epoch 46/50\n",
            "484/484 [==============================] - 20s 41ms/step - loss: 0.6455 - accuracy: 0.8454\n",
            "Epoch 47/50\n",
            "484/484 [==============================] - 18s 38ms/step - loss: 0.6352 - accuracy: 0.8450\n",
            "Epoch 48/50\n",
            "484/484 [==============================] - 21s 43ms/step - loss: 0.6228 - accuracy: 0.8465\n",
            "Epoch 49/50\n",
            "484/484 [==============================] - 19s 39ms/step - loss: 0.6140 - accuracy: 0.8470\n",
            "Epoch 50/50\n",
            "484/484 [==============================] - 21s 43ms/step - loss: 0.6119 - accuracy: 0.8458\n"
          ]
        }
      ],
      "source": [
        "# Get the untrained model\n",
        "model = create_model(total_words, max_sequence_len)\n",
        "\n",
        "# Train the model\n",
        "history = model.fit(features, labels, epochs=50, verbose=1)"
      ]
    },
    {
      "cell_type": "code",
      "execution_count": 28,
      "metadata": {
        "id": "1fXTEO3GJ282",
        "tags": [],
        "colab": {
          "base_uri": "https://localhost:8080/",
          "height": 887
        },
        "outputId": "fe3792a0-e47e-4732-878e-4d1096233b75"
      },
      "outputs": [
        {
          "output_type": "display_data",
          "data": {
            "text/plain": [
              "<Figure size 640x480 with 1 Axes>"
            ],
            "image/png": "[encoded data removed]"
          },
          "metadata": {}
        },
        {
          "output_type": "display_data",
          "data": {
            "text/plain": [
              "<Figure size 640x480 with 1 Axes>"
            ],
            "image/png": "[encoded data removed]"
          },
          "metadata": {}
        }
      ],
      "source": [
        "# Take a look at the training curves of your model\n",
        "\n",
        "acc = history.history['accuracy']\n",
        "loss = history.history['loss']\n",
        "\n",
        "epochs = range(len(acc))\n",
        "\n",
        "plt.plot(epochs, acc, 'b', label='Training accuracy')\n",
        "plt.title('Training accuracy')\n",
        "\n",
        "plt.figure()\n",
        "\n",
        "plt.plot(epochs, loss, 'b', label='Training Loss')\n",
        "plt.title('Training loss')\n",
        "plt.legend()\n",
        "\n",
        "plt.show()"
      ]
    },
    {
      "cell_type": "markdown",
      "metadata": {
        "id": "wdsMszk9zBs_"
      },
      "source": [
        "## The Model in Action\n",
        "\n",
        "Run the cell below to generate the next words of a seed text.\n",
        "\n",
        "Try changing the seed text to see what you get!"
      ]
    },
    {
      "cell_type": "code",
      "execution_count": 29,
      "metadata": {
        "id": "6Vc6PHgxa6Hm",
        "tags": [],
        "colab": {
          "base_uri": "https://localhost:8080/"
        },
        "outputId": "0bd1a37b-6533-4682-818e-b97883a3ff2f"
      },
      "outputs": [
        {
          "output_type": "stream",
          "name": "stdout",
          "text": [
            "to be or not to be vile delight can prove short cold new light decrease light decrease rarities itself bastard offenders number in me shall prove new swift dispatch dispatch new back vision back vision remover doth cures be his blood and slave doth stand shows you to above the judgment part her you dwell bright\n"
          ]
        }
      ],
      "source": [
        "seed_text = \"to be or not to be\"\n",
        "next_words = 50\n",
        "\n",
        "for _ in range(next_words):\n",
        "    # Convert the text into sequences\n",
        "    token_list = tokenizer.texts_to_sequences([seed_text])[0]\n",
        "    # Pad the sequences\n",
        "    token_list = pad_sequences([token_list], maxlen=max_sequence_len-1, padding='pre')\n",
        "    # Get the probabilities of predicting a word\n",
        "    predicted = model.predict(token_list, verbose=0)\n",
        "    # Choose the next word based on the maximum probability\n",
        "    predicted = np.argmax(predicted, axis=-1).item()\n",
        "    # Get the actual word from the word index\n",
        "    output_word = tokenizer.index_word[predicted]\n",
        "    # Append to the current text\n",
        "    seed_text += \" \" + output_word\n",
        "\n",
        "print(seed_text)\n"
      ]
    },
    {
      "cell_type": "markdown",
      "source": [
        "# My Findings\n",
        "\n",
        "Each trial was done with 50 epochs.  \n",
        "Tested by adding 50 additional words after seed text 'to be or not to be.'\n",
        "\n",
        "Trial Name / Training Accuracy at Epoch 50 / Avg seconds per Epoch\n",
        "\n",
        "##Trial 1: Shallow and Wide / ~85% / 52s\n",
        "* Embedding\n",
        "* Bidirectional LSTM 250\n",
        "* Dense\n",
        "\n",
        "Notes: epochs 8 - 12 had a ~10% increase with each epoch. Reached 80% at epoch 18 and stagnated at epoch 25.\n",
        "\n",
        "*to be or not to be  \n",
        "alive of me those stars rehearse now shine  \n",
        "bright dead heart forth me  \n",
        "now lie in me sad sun is showers new go  \n",
        "shine bright highmost tomb night memory art more dead\n",
        "thee me view new word  \n",
        "grief thee more delight and date rhyme daily me*\n",
        "\n",
        "\n",
        "## Trial 2: Deep and Narrow / ~60% / 24s\n",
        "* Embedding\n",
        "* Bidirectional LSTM 50\n",
        "* Bidirectional LSTM 50\n",
        "* Dense\n",
        "\n",
        "Notes: 'room' gets repeated a lot the further from the seed it goes\n",
        "\n",
        "*to be or not to be  \n",
        "my love receivest not shine  \n",
        "thou dumb thereby mind truth hour room grew thou  \n",
        "no rehearse comment new defaced room room  \n",
        "bail staineth room room room staineth  \n",
        "room room bail staineth  \n",
        "room room room room room pluck crime sad shade like it grace away  \n",
        "tis extreme grace*  \n",
        "\n",
        "\n",
        "## Trial 3: Somewhat in the Middle / ~84% / 19s\n",
        "* Embedding\n",
        "* Bidirectional LSTM 100\n",
        "* Dense\n",
        "\n",
        "Notes: reached 80% at epoch 33\n",
        "\n",
        "*to be or not to be  \n",
        "vile delight can prove short  \n",
        "cold new light decrease light decrease rarities itself  \n",
        "bastard offenders number in me shall prove new swift dispatch  \n",
        "dispatch new back vision  \n",
        "back vision remover doth cures  \n",
        "be his blood and slave doth stand  \n",
        "shows you to above the judgment  \n",
        "part her you dwell bright*\n",
        "\n"
      ],
      "metadata": {
        "id": "q_L-HGFXjJQt"
      }
    }
  ],
  "metadata": {
    "colab": {
      "provenance": []
    },
    "dlai_version": "1.2.0",
    "jupytext": {
      "main_language": "python"
    },
    "kernelspec": {
      "display_name": "Python 3",
      "language": "python",
      "name": "python3"
    },
    "language_info": {
      "codemirror_mode": {
        "name": "ipython",
        "version": 3
      },
      "file_extension": ".py",
      "mimetype": "text/x-python",
      "name": "python",
      "nbconvert_exporter": "python",
      "pygments_lexer": "ipython3",
      "version": "3.7.4"
    }
  },
  "nbformat": 4,
  "nbformat_minor": 0
}